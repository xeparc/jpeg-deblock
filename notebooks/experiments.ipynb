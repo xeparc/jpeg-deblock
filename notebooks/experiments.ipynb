{
 "cells": [
  {
   "cell_type": "code",
   "execution_count": 65,
   "id": "bf8e3986-373f-4f22-89aa-d147c63b3af8",
   "metadata": {},
   "outputs": [],
   "source": [
    "import PIL\n",
    "import numpy as np\n",
    "import torch\n",
    "import torch.nn as nn\n",
    "import jpeglib\n",
    "import matplotlib.pyplot as plt\n",
    "\n",
    "from PIL import Image"
   ]
  },
  {
   "cell_type": "code",
   "execution_count": 15,
   "id": "4b45232b-aa31-45b6-8e45-998556c61049",
   "metadata": {},
   "outputs": [
    {
     "data": {
      "text/plain": [
       "tensor([[ 0.,  1.,  2.,  3.,  4.,  5.,  6.,  7.],\n",
       "        [ 8.,  9., 10., 11., 12., 13., 14., 15.],\n",
       "        [16., 17., 18., 19., 20., 21., 22., 23.],\n",
       "        [24., 25., 26., 27., 28., 29., 30., 31.],\n",
       "        [32., 33., 34., 35., 36., 37., 38., 39.],\n",
       "        [40., 41., 42., 43., 44., 45., 46., 47.]])"
      ]
     },
     "execution_count": 15,
     "metadata": {},
     "output_type": "execute_result"
    }
   ],
   "source": [
    "img = torch.arange(48).reshape(6,8).float()\n",
    "img"
   ]
  },
  {
   "cell_type": "code",
   "execution_count": 38,
   "id": "0835bd8e-14e3-4dfb-8743-9bbb98d88f6c",
   "metadata": {},
   "outputs": [
    {
     "data": {
      "text/plain": [
       "tensor([[ 0.,  0.,  0.,  0.,  0.,  0.,  0.,  0.,  0.,  0.],\n",
       "        [ 0.,  0.,  1.,  2.,  3.,  4.,  5.,  6.,  7.,  0.],\n",
       "        [ 0.,  8.,  9., 10., 11., 12., 13., 14., 15.,  0.],\n",
       "        [ 0., 16., 17., 18., 19., 20., 21., 22., 23.,  0.],\n",
       "        [ 0., 24., 25., 26., 27., 28., 29., 30., 31.,  0.],\n",
       "        [ 0., 32., 33., 34., 35., 36., 37., 38., 39.,  0.],\n",
       "        [ 0., 40., 41., 42., 43., 44., 45., 46., 47.,  0.],\n",
       "        [ 0.,  0.,  0.,  0.,  0.,  0.,  0.,  0.,  0.,  0.]])"
      ]
     },
     "execution_count": 38,
     "metadata": {},
     "output_type": "execute_result"
    }
   ],
   "source": [
    "nn.functional.pad(img.reshape(6,8), pad=((1,1,1,1)), mode=\"constant\", value=0)"
   ]
  },
  {
   "cell_type": "code",
   "execution_count": 24,
   "id": "79c937bc-1daa-49cf-9ef1-2cd8de054ad1",
   "metadata": {},
   "outputs": [
    {
     "data": {
      "text/plain": [
       "tensor([[ 0.,  1.,  2.,  3.,  4.,  5.,  8.,  9., 10., 11., 12., 13., 16., 17.,\n",
       "         18., 19., 20., 21., 24., 25., 26., 27., 28., 29.],\n",
       "        [ 1.,  2.,  3.,  4.,  5.,  6.,  9., 10., 11., 12., 13., 14., 17., 18.,\n",
       "         19., 20., 21., 22., 25., 26., 27., 28., 29., 30.],\n",
       "        [ 2.,  3.,  4.,  5.,  6.,  7., 10., 11., 12., 13., 14., 15., 18., 19.,\n",
       "         20., 21., 22., 23., 26., 27., 28., 29., 30., 31.],\n",
       "        [ 8.,  9., 10., 11., 12., 13., 16., 17., 18., 19., 20., 21., 24., 25.,\n",
       "         26., 27., 28., 29., 32., 33., 34., 35., 36., 37.],\n",
       "        [ 9., 10., 11., 12., 13., 14., 17., 18., 19., 20., 21., 22., 25., 26.,\n",
       "         27., 28., 29., 30., 33., 34., 35., 36., 37., 38.],\n",
       "        [10., 11., 12., 13., 14., 15., 18., 19., 20., 21., 22., 23., 26., 27.,\n",
       "         28., 29., 30., 31., 34., 35., 36., 37., 38., 39.],\n",
       "        [16., 17., 18., 19., 20., 21., 24., 25., 26., 27., 28., 29., 32., 33.,\n",
       "         34., 35., 36., 37., 40., 41., 42., 43., 44., 45.],\n",
       "        [17., 18., 19., 20., 21., 22., 25., 26., 27., 28., 29., 30., 33., 34.,\n",
       "         35., 36., 37., 38., 41., 42., 43., 44., 45., 46.],\n",
       "        [18., 19., 20., 21., 22., 23., 26., 27., 28., 29., 30., 31., 34., 35.,\n",
       "         36., 37., 38., 39., 42., 43., 44., 45., 46., 47.]])"
      ]
     },
     "execution_count": 24,
     "metadata": {},
     "output_type": "execute_result"
    }
   ],
   "source": [
    "unfold = nn.Unfold(kernel_size=(3,3),stride=1)\n",
    "u = unfold(img.reshape(1,6,8))\n",
    "u"
   ]
  },
  {
   "cell_type": "code",
   "execution_count": 22,
   "id": "0de407b5-be39-4472-9133-bf1d6ff66120",
   "metadata": {},
   "outputs": [
    {
     "data": {
      "text/plain": [
       "tensor([[ 0.,  1.,  2.,  8.,  9., 10., 16., 17., 18.],\n",
       "        [ 1.,  2.,  3.,  9., 10., 11., 17., 18., 19.],\n",
       "        [ 2.,  3.,  4., 10., 11., 12., 18., 19., 20.],\n",
       "        [ 3.,  4.,  5., 11., 12., 13., 19., 20., 21.],\n",
       "        [ 4.,  5.,  6., 12., 13., 14., 20., 21., 22.],\n",
       "        [ 5.,  6.,  7., 13., 14., 15., 21., 22., 23.],\n",
       "        [ 8.,  9., 10., 16., 17., 18., 24., 25., 26.],\n",
       "        [ 9., 10., 11., 17., 18., 19., 25., 26., 27.],\n",
       "        [10., 11., 12., 18., 19., 20., 26., 27., 28.],\n",
       "        [11., 12., 13., 19., 20., 21., 27., 28., 29.],\n",
       "        [12., 13., 14., 20., 21., 22., 28., 29., 30.],\n",
       "        [13., 14., 15., 21., 22., 23., 29., 30., 31.],\n",
       "        [16., 17., 18., 24., 25., 26., 32., 33., 34.],\n",
       "        [17., 18., 19., 25., 26., 27., 33., 34., 35.],\n",
       "        [18., 19., 20., 26., 27., 28., 34., 35., 36.],\n",
       "        [19., 20., 21., 27., 28., 29., 35., 36., 37.],\n",
       "        [20., 21., 22., 28., 29., 30., 36., 37., 38.],\n",
       "        [21., 22., 23., 29., 30., 31., 37., 38., 39.],\n",
       "        [24., 25., 26., 32., 33., 34., 40., 41., 42.],\n",
       "        [25., 26., 27., 33., 34., 35., 41., 42., 43.],\n",
       "        [26., 27., 28., 34., 35., 36., 42., 43., 44.],\n",
       "        [27., 28., 29., 35., 36., 37., 43., 44., 45.],\n",
       "        [28., 29., 30., 36., 37., 38., 44., 45., 46.],\n",
       "        [29., 30., 31., 37., 38., 39., 45., 46., 47.]])"
      ]
     },
     "execution_count": 22,
     "metadata": {},
     "output_type": "execute_result"
    }
   ],
   "source": [
    "u.T"
   ]
  },
  {
   "cell_type": "code",
   "execution_count": 26,
   "id": "7afc6905-d9f8-4fe8-96b0-cd1bf811d1f5",
   "metadata": {},
   "outputs": [
    {
     "data": {
      "text/plain": [
       "tensor([[ 9., 10., 11., 12., 13., 14.],\n",
       "        [17., 18., 19., 20., 21., 22.],\n",
       "        [25., 26., 27., 28., 29., 30.],\n",
       "        [33., 34., 35., 36., 37., 38.]])"
      ]
     },
     "execution_count": 26,
     "metadata": {},
     "output_type": "execute_result"
    }
   ],
   "source": [
    "u.T[:,4].reshape(4,6)"
   ]
  },
  {
   "cell_type": "code",
   "execution_count": 82,
   "id": "21a62cda-e2fa-44f7-874e-921eda9379e3",
   "metadata": {},
   "outputs": [],
   "source": [
    "t = torch.arange(48*2).reshape(2,6,8).float()"
   ]
  },
  {
   "cell_type": "code",
   "execution_count": 85,
   "id": "cd411bf2-2903-45b7-92da-169ff99ec75f",
   "metadata": {},
   "outputs": [
    {
     "data": {
      "text/plain": [
       "tensor([[[ 0.,  0.,  0.,  0.,  0.,  0.,  0.,  0.,  0.,  0.],\n",
       "         [ 0.,  0.,  1.,  2.,  3.,  4.,  5.,  6.,  7.,  0.],\n",
       "         [ 0.,  8.,  9., 10., 11., 12., 13., 14., 15.,  0.],\n",
       "         [ 0., 16., 17., 18., 19., 20., 21., 22., 23.,  0.],\n",
       "         [ 0., 24., 25., 26., 27., 28., 29., 30., 31.,  0.],\n",
       "         [ 0., 32., 33., 34., 35., 36., 37., 38., 39.,  0.],\n",
       "         [ 0., 40., 41., 42., 43., 44., 45., 46., 47.,  0.],\n",
       "         [ 0.,  0.,  0.,  0.,  0.,  0.,  0.,  0.,  0.,  0.]],\n",
       "\n",
       "        [[ 0.,  0.,  0.,  0.,  0.,  0.,  0.,  0.,  0.,  0.],\n",
       "         [ 0., 48., 49., 50., 51., 52., 53., 54., 55.,  0.],\n",
       "         [ 0., 56., 57., 58., 59., 60., 61., 62., 63.,  0.],\n",
       "         [ 0., 64., 65., 66., 67., 68., 69., 70., 71.,  0.],\n",
       "         [ 0., 72., 73., 74., 75., 76., 77., 78., 79.,  0.],\n",
       "         [ 0., 80., 81., 82., 83., 84., 85., 86., 87.,  0.],\n",
       "         [ 0., 88., 89., 90., 91., 92., 93., 94., 95.,  0.],\n",
       "         [ 0.,  0.,  0.,  0.,  0.,  0.,  0.,  0.,  0.,  0.]]])"
      ]
     },
     "execution_count": 85,
     "metadata": {},
     "output_type": "execute_result"
    }
   ],
   "source": [
    "p = nn.functional.pad(t, pad=(1,1,1,1), mode=\"constant\", value=0)\n",
    "p"
   ]
  },
  {
   "cell_type": "code",
   "execution_count": 90,
   "id": "98822d24-50e7-4de0-87e0-1e153dd745c8",
   "metadata": {},
   "outputs": [],
   "source": [
    "x = nn.Unfold(kernel_size=3, stride=1)(p)"
   ]
  },
  {
   "cell_type": "code",
   "execution_count": 93,
   "id": "ab98c599-e903-4922-9615-8ad1b47d23f8",
   "metadata": {},
   "outputs": [
    {
     "data": {
      "text/plain": [
       "tensor([ 0.,  0.,  0.,  1.,  2.,  3.,  9., 10., 11.,  0.,  0.,  0., 49., 50.,\n",
       "        51., 57., 58., 59.])"
      ]
     },
     "execution_count": 93,
     "metadata": {},
     "output_type": "execute_result"
    }
   ],
   "source": [
    "x[:,2]"
   ]
  },
  {
   "cell_type": "code",
   "execution_count": 94,
   "id": "838849f9-101e-4daf-8007-9a7a2749e3ac",
   "metadata": {},
   "outputs": [
    {
     "data": {
      "text/plain": [
       "torch.Size([18, 48])"
      ]
     },
     "execution_count": 94,
     "metadata": {},
     "output_type": "execute_result"
    }
   ],
   "source": [
    "x.shape"
   ]
  },
  {
   "cell_type": "code",
   "execution_count": 96,
   "id": "d25cb460-12da-40dd-bace-72dd71b718ab",
   "metadata": {},
   "outputs": [
    {
     "data": {
      "text/plain": [
       "tensor([[ 0.,  0.,  0.,  2.,  3.,  4., 10., 11., 12.],\n",
       "        [ 0.,  0.,  0., 50., 51., 52., 58., 59., 60.]])"
      ]
     },
     "execution_count": 96,
     "metadata": {},
     "output_type": "execute_result"
    }
   ],
   "source": [
    "x.reshape(2,9,48)[:,:,3]"
   ]
  },
  {
   "cell_type": "code",
   "execution_count": 7,
   "id": "8a30b11c-63d8-4f0b-a161-6764b2c53c2b",
   "metadata": {},
   "outputs": [],
   "source": [
    "lena = Image.open(\"lena_color.tiff\")"
   ]
  },
  {
   "cell_type": "code",
   "execution_count": 8,
   "id": "8e50e6e0-1e06-449b-83d6-a3e90c383e4b",
   "metadata": {},
   "outputs": [],
   "source": [
    "lena = np.array(lena)"
   ]
  },
  {
   "cell_type": "code",
   "execution_count": 10,
   "id": "698987bb-ca4c-4060-9b72-c5ce8b88b4d1",
   "metadata": {},
   "outputs": [
    {
     "data": {
      "text/plain": [
       "(512, 512, 3)"
      ]
     },
     "execution_count": 10,
     "metadata": {},
     "output_type": "execute_result"
    }
   ],
   "source": [
    "lena.shape"
   ]
  },
  {
   "cell_type": "code",
   "execution_count": 47,
   "id": "8ec28d31-525a-44a1-9ed3-6ec12436c177",
   "metadata": {},
   "outputs": [],
   "source": [
    "dct = jpeglib.read_dct(\"8068.jpg\")\n",
    "Y, Cb, Cr = dct.Y * dct.qt[0], dct.Cb * dct.qt[1], dct.Cr * dct.qt[1]"
   ]
  },
  {
   "cell_type": "code",
   "execution_count": 49,
   "id": "df992880-dbe1-4a54-b6c2-ddd781b6e131",
   "metadata": {},
   "outputs": [
    {
     "data": {
      "text/plain": [
       "<matplotlib.image.AxesImage at 0x14a7b73a0>"
      ]
     },
     "execution_count": 49,
     "metadata": {},
     "output_type": "execute_result"
    },
    {
     "data": {
      "image/png": "[encoded data removed]",
      "text/plain": [
       "<Figure size 1600x900 with 3 Axes>"
      ]
     },
     "metadata": {},
     "output_type": "display_data"
    }
   ],
   "source": [
    "fig, axs = plt.subplots(1, 3, figsize=(16,9))\n",
    "axs[0].imshow(Y[:,:,0,0], cmap=\"gray\")\n",
    "axs[1].imshow(Cb[:,:,0,0], cmap=\"gray\")\n",
    "axs[2].imshow(Cr[:,:,0,0], cmap=\"gray\")"
   ]
  },
  {
   "cell_type": "code",
   "execution_count": 211,
   "id": "95193ad5-362a-4460-9fb3-7e3eed331615",
   "metadata": {},
   "outputs": [
    {
     "data": {
      "text/plain": [
       "array([[[[-708,    7,   -3, ...,    0,    0,    0],\n",
       "         [ -10,   14,   -5, ...,    0,    0,    0],\n",
       "         [  31,    3,   -6, ...,    0,    0,    0],\n",
       "         ...,\n",
       "         [  12,    0,    0, ...,    0,    0,    0],\n",
       "         [   5,    0,    0, ...,    0,    0,    0],\n",
       "         [   0,    0,    0, ...,    0,    0,    0]],\n",
       "\n",
       "        [[-744,    5,   12, ...,    0,    0,    0],\n",
       "         [ -20,   -6,   -2, ...,    0,    0,    0],\n",
       "         [  -4,    5,   -2, ...,    0,    0,    0],\n",
       "         ...,\n",
       "         [   0,    0,    0, ...,    0,    0,    0],\n",
       "         [  10,    0,    0, ...,    0,    0,    0],\n",
       "         [   0,    0,    0, ...,    0,    0,    0]],\n",
       "\n",
       "        [[-750,    6,   10, ...,    0,    0,    0],\n",
       "         [ -35,    7,    5, ...,    0,    0,    0],\n",
       "         [  -2,  -10,   -6, ...,    0,    0,    0],\n",
       "         ...,\n",
       "         [  10,   -4,    0, ...,    0,    0,    0],\n",
       "         [   5,    6,    0, ...,    0,    0,    0],\n",
       "         [   0,    0,    0, ...,    0,    0,    0]],\n",
       "\n",
       "        ...,\n",
       "\n",
       "        [[-800,   -3,    0, ...,    4,    0,    0],\n",
       "         [ -25,   10,    3, ...,    0,    0,    0],\n",
       "         [  25,    8,   -6, ...,    0,    0,    0],\n",
       "         ...,\n",
       "         [   2,    4,    0, ...,    0,    0,    0],\n",
       "         [   0,    0,    0, ...,    0,    0,    0],\n",
       "         [   0,    0,    0, ...,    0,    0,    0]],\n",
       "\n",
       "        [[-804,    3,   -7, ...,    0,    0,    0],\n",
       "         [ -17,    0,    7, ...,    0,    0,    0],\n",
       "         [  24,    2,   -8, ...,    0,    0,    0],\n",
       "         ...,\n",
       "         [   2,    0,    0, ...,    0,    0,    0],\n",
       "         [   0,    0,    0, ...,    0,    0,    0],\n",
       "         [   0,    0,    0, ...,    0,    0,    0]],\n",
       "\n",
       "        [[-808,    0,    0, ...,    0,    0,    0],\n",
       "         [   5,    0,    0, ...,    0,    0,    0],\n",
       "         [   5,    0,    0, ...,    0,    0,    0],\n",
       "         ...,\n",
       "         [   2,    0,    0, ...,    0,    0,    0],\n",
       "         [   0,    0,    0, ...,    0,    0,    0],\n",
       "         [   0,    0,    0, ...,    0,    0,    0]]],\n",
       "\n",
       "\n",
       "       [[[-606,   -7,   -1, ...,    4,    0,    0],\n",
       "         [ -17,    8,    9, ...,    0,    0,    0],\n",
       "         [  29,  -16,   -2, ...,    0,    0,    0],\n",
       "         ...,\n",
       "         [  -2,    0,    0, ...,    0,    0,    0],\n",
       "         [   0,    0,    0, ...,    0,    0,    0],\n",
       "         [   7,    0,    0, ...,    0,    0,    0]],\n",
       "\n",
       "        [[-660,   18,   12, ...,    0,    0,    0],\n",
       "         [ -26,    4,    2, ...,    0,    0,    0],\n",
       "         [  39,    0,   -2, ...,    0,    0,    0],\n",
       "         ...,\n",
       "         [  -2,    8,    0, ...,    0,    0,    0],\n",
       "         [   0,    6,    0, ...,    0,    0,    0],\n",
       "         [   0,    0,    0, ...,    0,    0,    0]],\n",
       "\n",
       "        [[-664,    0,    1, ...,    0,    0,    0],\n",
       "         [ -52,    6,    5, ...,    0,    0,    0],\n",
       "         [  25,   -6,    2, ...,    0,    0,    0],\n",
       "         ...,\n",
       "         [  -6,   -4,    0, ...,    0,    0,    0],\n",
       "         [ -10,    0,    0, ...,    0,    0,    0],\n",
       "         [  -7,    0,    0, ...,    0,    0,    0]],\n",
       "\n",
       "        ...,\n",
       "\n",
       "        [[-772,    5,    0, ...,    0,    0,    0],\n",
       "         [   4,    4,    8, ...,    0,    0,    0],\n",
       "         [ -26,   -7,    0, ...,    0,    0,    0],\n",
       "         ...,\n",
       "         [  -2,    0,    0, ...,    0,    0,    0],\n",
       "         [   0,    0,    0, ...,    0,    0,    0],\n",
       "         [   0,    0,    0, ...,    0,    0,    0]],\n",
       "\n",
       "        [[-796,    4,    3, ...,    0,    0,    0],\n",
       "         [  23,  -12,    0, ...,    0,    0,    0],\n",
       "         [  -7,    0,   -4, ...,    0,    0,    0],\n",
       "         ...,\n",
       "         [   0,    0,    0, ...,    0,    0,    0],\n",
       "         [   0,    0,    0, ...,    0,    0,    0],\n",
       "         [   0,    0,    0, ...,    0,    0,    0]],\n",
       "\n",
       "        [[-800,    0,    0, ...,    0,    0,    0],\n",
       "         [  38,    0,    0, ...,    0,    0,    0],\n",
       "         [ -12,    0,    0, ...,    0,    0,    0],\n",
       "         ...,\n",
       "         [   0,    0,    0, ...,    0,    0,    0],\n",
       "         [   5,    0,    0, ...,    0,    0,    0],\n",
       "         [   7,    0,    0, ...,    0,    0,    0]]],\n",
       "\n",
       "\n",
       "       [[[-638,    3,   -2, ...,    0,    0,    0],\n",
       "         [ -23,   -2,    4, ...,    0,    0,    0],\n",
       "         [  -4,  -10,   -2, ...,    0,    0,    0],\n",
       "         ...,\n",
       "         [  24,  -12,   -6, ...,    0,    0,    0],\n",
       "         [  10,    0,    0, ...,    0,    0,    0],\n",
       "         [   0,    0,    0, ...,    0,    0,    0]],\n",
       "\n",
       "        [[-656,   14,   -3, ...,    0,    0,    0],\n",
       "         [  13,   -5,   -2, ...,    0,    0,    0],\n",
       "         [  -6,   11,   -4, ...,    0,    0,    0],\n",
       "         ...,\n",
       "         [  24,    8,    0, ...,    0,    0,    0],\n",
       "         [ -10,    0,    0, ...,    0,    0,    0],\n",
       "         [  -7,    0,    0, ...,    0,    0,    0]],\n",
       "\n",
       "        [[-682,    2,    0, ...,    4,    0,    0],\n",
       "         [  30,   -4,    1, ...,    0,    0,    0],\n",
       "         [ -38,   -4,    0, ...,    0,    0,    0],\n",
       "         ...,\n",
       "         [  -4,   12,    0, ...,    0,    0,    0],\n",
       "         [   0,    0,    0, ...,    0,    0,    0],\n",
       "         [   0,    0,    0, ...,    0,    0,    0]],\n",
       "\n",
       "        ...,\n",
       "\n",
       "        [[-732,   -2,   -5, ...,    4,    0,    0],\n",
       "         [ -49,   -8,    6, ...,    0,    0,    0],\n",
       "         [ -33,   17,    0, ...,   -6,    0,    0],\n",
       "         ...,\n",
       "         [   4,    0,    0, ...,    0,    0,    0],\n",
       "         [  -5,    0,    0, ...,    0,    0,    0],\n",
       "         [   0,    0,    0, ...,    0,    0,    0]],\n",
       "\n",
       "        [[-758,    5,   -1, ...,    0,    5,    0],\n",
       "         [  -5,   -3,    3, ...,    0,    0,    0],\n",
       "         [ -50,    1,    0, ...,    0,    0,    0],\n",
       "         ...,\n",
       "         [   0,    0,    6, ...,    0,    0,    0],\n",
       "         [  -5,    0,    0, ...,    0,    0,    0],\n",
       "         [   0,    0,    0, ...,    0,    0,    0]],\n",
       "\n",
       "        [[-780,    0,    0, ...,    0,    0,    0],\n",
       "         [  13,    0,    0, ...,    0,    0,    0],\n",
       "         [ -44,    0,    0, ...,    0,    0,    0],\n",
       "         ...,\n",
       "         [  12,    0,    0, ...,    0,    0,    0],\n",
       "         [   0,    0,    0, ...,    0,    0,    0],\n",
       "         [   0,    0,    0, ...,    0,    0,    0]]],\n",
       "\n",
       "\n",
       "       ...,\n",
       "\n",
       "\n",
       "       [[[-880,    9,    9, ...,    0,    0,    0],\n",
       "         [   8,   -9,  -16, ...,    0,    0,    0],\n",
       "         [  11,    9,   -8, ...,    0,    0,    0],\n",
       "         ...,\n",
       "         [  14,    0,   -6, ...,    0,    0,    0],\n",
       "         [   5,   -6,    0, ...,    0,    0,    0],\n",
       "         [   0,    0,    0, ...,    0,    0,    0]],\n",
       "\n",
       "        [[-892,    9,    0, ...,    0,    0,    0],\n",
       "         [ -14,   -2,    6, ...,    0,    0,    0],\n",
       "         [  -1,   -6,   -6, ...,    0,    0,    0],\n",
       "         ...,\n",
       "         [   0,    4,    0, ...,    0,    0,    0],\n",
       "         [   0,    0,    0, ...,    0,    0,    0],\n",
       "         [   0,    0,    0, ...,    0,    0,    0]],\n",
       "\n",
       "        [[-902,   -1,   -5, ...,   -4,    0,    0],\n",
       "         [ -19,    4,    2, ...,    0,    0,    0],\n",
       "         [   4,   -1,   -2, ...,    0,    0,    0],\n",
       "         ...,\n",
       "         [   0,   -4,    0, ...,    0,    0,    0],\n",
       "         [   0,    0,    0, ...,    0,    0,    0],\n",
       "         [   0,    0,    0, ...,    0,    0,    0]],\n",
       "\n",
       "        ...,\n",
       "\n",
       "        [[-790,    5,    1, ...,    0,    0,    0],\n",
       "         [ -10,   -6,    1, ...,    0,    0,    0],\n",
       "         [   8,    3,    0, ...,    0,    0,    0],\n",
       "         ...,\n",
       "         [  -2,    4,    0, ...,    0,    0,    0],\n",
       "         [   0,    0,    0, ...,    0,    0,    0],\n",
       "         [   0,    0,    0, ...,    0,    0,    0]],\n",
       "\n",
       "        [[-784,   -5,   -3, ...,    0,    0,    0],\n",
       "         [  15,    5,   -9, ...,    0,    0,    0],\n",
       "         [  -8,    7,    2, ...,    0,    0,    0],\n",
       "         ...,\n",
       "         [   2,    0,   -6, ...,    0,    0,    0],\n",
       "         [   0,    0,    0, ...,    0,    0,    0],\n",
       "         [   0,    0,    0, ...,    0,    0,    0]],\n",
       "\n",
       "        [[-776,    0,    0, ...,    0,    0,    0],\n",
       "         [  -6,    0,    0, ...,    0,    0,    0],\n",
       "         [  -9,    0,    0, ...,    0,    0,    0],\n",
       "         ...,\n",
       "         [  -4,    0,    0, ...,    0,    0,    0],\n",
       "         [  -5,    0,    0, ...,    0,    0,    0],\n",
       "         [   0,    0,    0, ...,    0,    0,    0]]],\n",
       "\n",
       "\n",
       "       [[[-888,   -5,   -1, ...,    4,    0,    0],\n",
       "         [ -12,   -2,   -3, ...,    0,    0,    0],\n",
       "         [ -12,   -3,    8, ...,    0,    0,    0],\n",
       "         ...,\n",
       "         [  -2,    0,    0, ...,    0,    0,    0],\n",
       "         [   0,    0,    0, ...,    0,    0,    0],\n",
       "         [   0,    0,    0, ...,    0,    0,    0]],\n",
       "\n",
       "        [[-862,  -15,   -3, ...,    0,    0,    0],\n",
       "         [  -6,    3,   -6, ...,    0,    0,    0],\n",
       "         [  -4,    8,    2, ...,    0,    0,    0],\n",
       "         ...,\n",
       "         [   0,    4,    0, ...,    0,    0,    0],\n",
       "         [  -5,    0,    0, ...,    0,    0,    0],\n",
       "         [   0,    0,    0, ...,    0,    0,    0]],\n",
       "\n",
       "        [[-870,   17,    1, ...,    0,    0,    0],\n",
       "         [ -13,   -7,   -3, ...,    0,    0,    0],\n",
       "         [ -20,   -5,    6, ...,    0,    0,    0],\n",
       "         ...,\n",
       "         [   2,   -4,   -6, ...,    0,    0,    0],\n",
       "         [   5,    0,    0, ...,    0,    0,    0],\n",
       "         [   0,    0,    0, ...,    0,    0,    0]],\n",
       "\n",
       "        ...,\n",
       "\n",
       "        [[-786,   -5,   -5, ...,    4,    0,    0],\n",
       "         [  46,   10,   -8, ...,    0,    0,    0],\n",
       "         [  -1,   -3,    2, ...,    0,    0,    0],\n",
       "         ...,\n",
       "         [   0,    0,    0, ...,    0,    0,    0],\n",
       "         [   0,    0,    0, ...,    0,    0,    0],\n",
       "         [   0,    0,    0, ...,    0,    0,    0]],\n",
       "\n",
       "        [[-810,   12,    1, ...,    0,    0,    0],\n",
       "         [   4,    7,    0, ...,    0,    0,    0],\n",
       "         [   7,    2,    0, ...,    0,    0,    0],\n",
       "         ...,\n",
       "         [   8,   -4,    0, ...,    0,    0,    0],\n",
       "         [   0,    0,    0, ...,    0,    0,    0],\n",
       "         [   0,    0,    0, ...,    0,    0,    0]],\n",
       "\n",
       "        [[-820,    0,    0, ...,    0,    0,    0],\n",
       "         [  -3,    0,    0, ...,    0,    0,    0],\n",
       "         [  -4,    0,    0, ...,    0,    0,    0],\n",
       "         ...,\n",
       "         [   8,    0,    0, ...,    0,    0,    0],\n",
       "         [   0,    0,    0, ...,    0,    0,    0],\n",
       "         [   0,    0,    0, ...,    0,    0,    0]]],\n",
       "\n",
       "\n",
       "       [[[-904,    6,    9, ...,    0,    0,    0],\n",
       "         [   0,    0,    0, ...,    0,    0,    0],\n",
       "         [   0,    0,    0, ...,    0,    0,    0],\n",
       "         ...,\n",
       "         [   0,    0,    0, ...,    0,    0,    0],\n",
       "         [   0,    0,    0, ...,    0,    0,    0],\n",
       "         [   0,    0,    0, ...,    0,    0,    0]],\n",
       "\n",
       "        [[-892,    6,   -9, ...,    0,    0,    0],\n",
       "         [   0,    0,    0, ...,    0,    0,    0],\n",
       "         [   0,    0,    0, ...,    0,    0,    0],\n",
       "         ...,\n",
       "         [   0,    0,    0, ...,    0,    0,    0],\n",
       "         [   0,    0,    0, ...,    0,    0,    0],\n",
       "         [   0,    0,    0, ...,    0,    0,    0]],\n",
       "\n",
       "        [[-900,   19,    0, ...,   -4,    0,   -6],\n",
       "         [   0,    0,    0, ...,    0,    0,    0],\n",
       "         [   0,    0,    0, ...,    0,    0,    0],\n",
       "         ...,\n",
       "         [   0,    0,    0, ...,    0,    0,    0],\n",
       "         [   0,    0,    0, ...,    0,    0,    0],\n",
       "         [   0,    0,    0, ...,    0,    0,    0]],\n",
       "\n",
       "        ...,\n",
       "\n",
       "        [[-844,   -4,    2, ...,    0,   -5,    0],\n",
       "         [   0,    0,    0, ...,    0,    0,    0],\n",
       "         [   0,    0,    0, ...,    0,    0,    0],\n",
       "         ...,\n",
       "         [   0,    0,    0, ...,    0,    0,    0],\n",
       "         [   0,    0,    0, ...,    0,    0,    0],\n",
       "         [   0,    0,    0, ...,    0,    0,    0]],\n",
       "\n",
       "        [[-822,  -18,   11, ...,    0,    5,    0],\n",
       "         [   0,    0,    0, ...,    0,    0,    0],\n",
       "         [   0,    0,    0, ...,    0,    0,    0],\n",
       "         ...,\n",
       "         [   0,    0,    0, ...,    0,    0,    0],\n",
       "         [   0,    0,    0, ...,    0,    0,    0],\n",
       "         [   0,    0,    0, ...,    0,    0,    0]],\n",
       "\n",
       "        [[-784,    0,    0, ...,    0,    0,    0],\n",
       "         [   0,    0,    0, ...,    0,    0,    0],\n",
       "         [   0,    0,    0, ...,    0,    0,    0],\n",
       "         ...,\n",
       "         [   0,    0,    0, ...,    0,    0,    0],\n",
       "         [   0,    0,    0, ...,    0,    0,    0],\n",
       "         [   0,    0,    0, ...,    0,    0,    0]]]], dtype=int32)"
      ]
     },
     "execution_count": 211,
     "metadata": {},
     "output_type": "execute_result"
    }
   ],
   "source": [
    "Y"
   ]
  },
  {
   "cell_type": "code",
   "execution_count": 56,
   "id": "5acdc2f0-24e1-4308-9fe2-3631bbaf793f",
   "metadata": {},
   "outputs": [],
   "source": [
    "Y_norm = (Y - np.mean(Y, axis=(0,1))) / (np.std(Y, axis=(0,1)) + 1e-3)\n",
    "Cr_norm = (Cr - np.mean(Cr, axis=(0,1))) / (np.std(Cr, axis=(0,1)) + 1e-3)\n",
    "Cb_norm = (Cb - np.mean(Cb, axis=(0,1))) / (np.std(Cb, axis=(0,1)) + 1e-3)"
   ]
  },
  {
   "cell_type": "code",
   "execution_count": 58,
   "id": "ee0172fd-ce8c-47c8-843d-78ce99478bb5",
   "metadata": {},
   "outputs": [],
   "source": [
    "Y10 = torch.from_numpy(Y_norm).reshape(Y_norm.shape[0], Y_norm.shape[1], 64)\n",
    "Cr10 = torch.from_numpy(Cr_norm).reshape(Cr_norm.shape[0], Cr_norm.shape[1], 64)"
   ]
  },
  {
   "cell_type": "code",
   "execution_count": 60,
   "id": "6fcd280c-32ec-4b78-bcdf-63df7ee9277e",
   "metadata": {},
   "outputs": [
    {
     "data": {
      "text/plain": [
       "torch.Size([41, 61, 64])"
      ]
     },
     "execution_count": 60,
     "metadata": {},
     "output_type": "execute_result"
    }
   ],
   "source": [
    "Y10.shape"
   ]
  },
  {
   "cell_type": "code",
   "execution_count": 73,
   "id": "326ad1c6-5411-4a74-b255-7548616689fa",
   "metadata": {},
   "outputs": [],
   "source": [
    "Y10 = Y10.permute(2,0,1)"
   ]
  },
  {
   "cell_type": "code",
   "execution_count": 125,
   "id": "39abb69c-2645-48e5-91b0-bbe22b7b144e",
   "metadata": {},
   "outputs": [
    {
     "data": {
      "text/plain": [
       "torch.Size([64, 41, 61])"
      ]
     },
     "execution_count": 125,
     "metadata": {},
     "output_type": "execute_result"
    }
   ],
   "source": [
    "Y10 = Y10.float()\n",
    "Y10.shape"
   ]
  },
  {
   "cell_type": "code",
   "execution_count": 74,
   "id": "086c9dbe-d627-49c9-919b-24559f40735e",
   "metadata": {},
   "outputs": [],
   "source": [
    "KSIZE = 7"
   ]
  },
  {
   "cell_type": "code",
   "execution_count": 75,
   "id": "ca4acf3a-f50a-48a7-82c9-641447b5661e",
   "metadata": {},
   "outputs": [],
   "source": [
    "unfold = nn.Unfold(kernel_size=KSIZE, stride=1)"
   ]
  },
  {
   "cell_type": "code",
   "execution_count": 76,
   "id": "ab8d4060-506e-4f1e-a5ea-9a73cae6a035",
   "metadata": {},
   "outputs": [
    {
     "data": {
      "text/plain": [
       "torch.Size([64, 47, 67])"
      ]
     },
     "execution_count": 76,
     "metadata": {},
     "output_type": "execute_result"
    }
   ],
   "source": [
    "Y10_padded = nn.functional.pad(Y10, pad=(3,3,3,3), mode=\"constant\", value=0)\n",
    "Y10_padded.shape"
   ]
  },
  {
   "cell_type": "code",
   "execution_count": 77,
   "id": "d53e9456-161e-4956-955c-33c1e05fc7c7",
   "metadata": {},
   "outputs": [
    {
     "data": {
      "text/plain": [
       "torch.Size([3136, 2501])"
      ]
     },
     "execution_count": 77,
     "metadata": {},
     "output_type": "execute_result"
    }
   ],
   "source": [
    "X = unfold(Y10_padded)\n",
    "X.shape"
   ]
  },
  {
   "cell_type": "code",
   "execution_count": 111,
   "id": "5236ec84-9379-4c9a-b2b7-86e4841d9417",
   "metadata": {},
   "outputs": [],
   "source": [
    "# C, kernel_size**2, H, W\n",
    "X = X.reshape(64,49,41,61).float()"
   ]
  },
  {
   "cell_type": "code",
   "execution_count": 134,
   "id": "fe2aaf6c-3c90-466e-bc1e-ab68c8cf9a09",
   "metadata": {},
   "outputs": [],
   "source": [
    "Pq = torch.randn(256, 64).float()\n",
    "Pk = torch.randn(256, 64).float()\n",
    "Pv = torch.randn(256, 64).float()"
   ]
  },
  {
   "cell_type": "code",
   "execution_count": 148,
   "id": "5ca3d4ff-af49-439f-acc6-4fa69c03e78a",
   "metadata": {},
   "outputs": [
    {
     "data": {
      "text/plain": [
       "torch.Size([256, 41, 61])"
      ]
     },
     "execution_count": 148,
     "metadata": {},
     "output_type": "execute_result"
    }
   ],
   "source": [
    "K = (Y10.T @ Pk.T).T\n",
    "K.shape"
   ]
  },
  {
   "cell_type": "code",
   "execution_count": 147,
   "id": "27ce4e2c-2a27-46f0-8cfd-614745845de5",
   "metadata": {},
   "outputs": [
    {
     "data": {
      "text/plain": [
       "torch.Size([256, 49, 41, 61])"
      ]
     },
     "execution_count": 147,
     "metadata": {},
     "output_type": "execute_result"
    }
   ],
   "source": [
    "Q = (X.T @ Pq.T).T\n",
    "Q.shape"
   ]
  },
  {
   "cell_type": "code",
   "execution_count": null,
   "id": "6a96b1db-f1ba-48c2-87f5-9bacb76d2e07",
   "metadata": {},
   "outputs": [],
   "source": []
  },
  {
   "cell_type": "code",
   "execution_count": 130,
   "id": "e5b512d4-cc3d-49d8-9258-71f3dd5caf1c",
   "metadata": {},
   "outputs": [
    {
     "data": {
      "text/plain": [
       "torch.Size([256, 49, 41, 61])"
      ]
     },
     "execution_count": 130,
     "metadata": {},
     "output_type": "execute_result"
    }
   ],
   "source": [
    "A = Q * K.view(256, 1, 41, 61)\n",
    "A.shape"
   ]
  },
  {
   "cell_type": "code",
   "execution_count": 132,
   "id": "a7afa1d1-363f-4b6c-a444-449b5a809ac3",
   "metadata": {},
   "outputs": [
    {
     "name": "stdout",
     "output_type": "stream",
     "text": [
      "5.01 ms ± 140 μs per loop (mean ± std. dev. of 7 runs, 100 loops each)\n"
     ]
    }
   ],
   "source": [
    "%timeit Q * K.view(256, 1, 41, 61)"
   ]
  },
  {
   "cell_type": "code",
   "execution_count": 157,
   "id": "09fbbfac-c17a-4fba-b677-e25c055babc4",
   "metadata": {},
   "outputs": [
    {
     "name": "stdout",
     "output_type": "stream",
     "text": [
      "51.8 ms ± 1.44 ms per loop (mean ± std. dev. of 7 runs, 10 loops each)\n"
     ]
    }
   ],
   "source": [
    "%timeit A = nn.functional.softmax(Q * K.view(256, 1, 41, 61), dim=1)\n"
   ]
  },
  {
   "cell_type": "code",
   "execution_count": 146,
   "id": "609a0bf1-454f-47ee-9617-e2c45dd5c1a0",
   "metadata": {},
   "outputs": [
    {
     "data": {
      "text/plain": [
       "torch.Size([256, 49, 41, 61])"
      ]
     },
     "execution_count": 146,
     "metadata": {},
     "output_type": "execute_result"
    }
   ],
   "source": [
    "V = (X.T @ Pv.T).T\n",
    "V.shape"
   ]
  },
  {
   "cell_type": "code",
   "execution_count": 139,
   "id": "9669ae1c-21ba-4005-9cc3-7927c1c26324",
   "metadata": {},
   "outputs": [],
   "source": [
    "Z = (A * V).sum(dim=1)"
   ]
  },
  {
   "cell_type": "code",
   "execution_count": 140,
   "id": "f1c2d0f6-98a9-45ba-93d1-e90dcb6b81b3",
   "metadata": {},
   "outputs": [
    {
     "data": {
      "text/plain": [
       "torch.Size([256, 41, 61])"
      ]
     },
     "execution_count": 140,
     "metadata": {},
     "output_type": "execute_result"
    }
   ],
   "source": [
    "Z.shape"
   ]
  },
  {
   "cell_type": "markdown",
   "id": "ef9030f4-e7d0-4c2f-bc83-4453ca61d2d9",
   "metadata": {},
   "source": [
    "**Rinse and repeat**"
   ]
  },
  {
   "cell_type": "code",
   "execution_count": 159,
   "id": "d8272936-f4bf-47f2-b6e6-7e9f36b0b5d7",
   "metadata": {},
   "outputs": [],
   "source": [
    "attn = nn.MultiheadAttention(embed_dim=256, num_heads=4, add_bias_kv=True, batch_first=True)"
   ]
  },
  {
   "cell_type": "code",
   "execution_count": 164,
   "id": "f3ee986c-1bef-45e5-a8ce-54cae336b46b",
   "metadata": {},
   "outputs": [],
   "source": [
    "K_tiled = torch.tile(K.view(256, 1, 41, 61), (1,49,1,1)).conti"
   ]
  },
  {
   "cell_type": "code",
   "execution_count": 208,
   "id": "9bdc5870-6210-42cd-a094-8bf0158ec0f2",
   "metadata": {},
   "outputs": [
    {
     "name": "stdout",
     "output_type": "stream",
     "text": [
      "59.3 ms ± 2.23 ms per loop (mean ± std. dev. of 7 runs, 10 loops each)\n"
     ]
    }
   ],
   "source": [
    "%timeit z3 = attn(query=K.T.reshape(61*41,1,256), key=Q.T.reshape(61*41,49,256), value=V.T.reshape(61*41,49,256), need_weights=False)"
   ]
  },
  {
   "cell_type": "code",
   "execution_count": 188,
   "id": "da494d68-9522-4f28-a900-878f9202dec6",
   "metadata": {},
   "outputs": [
    {
     "name": "stdout",
     "output_type": "stream",
     "text": [
      "18.2 ms ± 237 μs per loop (mean ± std. dev. of 7 runs, 100 loops each)\n"
     ]
    }
   ],
   "source": [
    "%timeit z = nn.functional.scaled_dot_product_attention(query=Q.T, key=K.T.view(61,41,1,256), value=V.T)"
   ]
  },
  {
   "cell_type": "code",
   "execution_count": 194,
   "id": "acae698c-bc1a-4eb0-84cd-2ce06a159a03",
   "metadata": {},
   "outputs": [
    {
     "data": {
      "text/plain": [
       "torch.Size([61, 41, 49, 256])"
      ]
     },
     "execution_count": 194,
     "metadata": {},
     "output_type": "execute_result"
    }
   ],
   "source": [
    "Q.T.shape"
   ]
  },
  {
   "cell_type": "code",
   "execution_count": 195,
   "id": "02a8b07d-85eb-47a2-93d0-6cc3b726e613",
   "metadata": {},
   "outputs": [
    {
     "data": {
      "text/plain": [
       "torch.Size([4, 61, 41, 49, 64])"
      ]
     },
     "execution_count": 195,
     "metadata": {},
     "output_type": "execute_result"
    }
   ],
   "source": [
    "Q.T.reshape(61,41,49,4,64).permute(3,0,1,2,4).shape"
   ]
  },
  {
   "cell_type": "code",
   "execution_count": 196,
   "id": "262f80b5-1524-4a1d-9652-46e3cdbf2b8d",
   "metadata": {},
   "outputs": [
    {
     "data": {
      "text/plain": [
       "torch.Size([4, 61, 41, 1, 64])"
      ]
     },
     "execution_count": 196,
     "metadata": {},
     "output_type": "execute_result"
    }
   ],
   "source": [
    "K.T.reshape(61,41,1,4,64).permute(3,0,1,2,4).shape"
   ]
  },
  {
   "cell_type": "code",
   "execution_count": 197,
   "id": "1d2b15c2-4ff4-483f-b00f-f51ae08b7113",
   "metadata": {},
   "outputs": [
    {
     "data": {
      "text/plain": [
       "torch.Size([4, 61, 41, 49, 64])"
      ]
     },
     "execution_count": 197,
     "metadata": {},
     "output_type": "execute_result"
    }
   ],
   "source": [
    "V.T.reshape(61,41,49,4,64).permute(3,0,1,2,4).shape"
   ]
  },
  {
   "cell_type": "code",
   "execution_count": 201,
   "id": "0105ac31-0200-41da-88c8-81ca50698849",
   "metadata": {},
   "outputs": [
    {
     "name": "stdout",
     "output_type": "stream",
     "text": [
      "56.2 ms ± 3.34 ms per loop (mean ± std. dev. of 7 runs, 10 loops each)\n"
     ]
    }
   ],
   "source": [
    "%timeit z2 = nn.functional.scaled_dot_product_attention( \\\n",
    "    key=Q.T.reshape(61,41,49,4,64).permute(3,0,1,2,4), \\\n",
    "    query=K.T.reshape(61,41,1,4,64).permute(3,0,1,2,4), \\\n",
    "    value=V.T.reshape(61,41,49,4,64).permute(3,0,1,2,4) \\\n",
    ")"
   ]
  },
  {
   "cell_type": "code",
   "execution_count": 202,
   "id": "b08fa739-4203-406b-bbc4-e8f2d79cb64a",
   "metadata": {},
   "outputs": [
    {
     "data": {
      "text/plain": [
       "torch.Size([4, 61, 41, 1, 64])"
      ]
     },
     "execution_count": 202,
     "metadata": {},
     "output_type": "execute_result"
    }
   ],
   "source": [
    "z2.shape"
   ]
  },
  {
   "cell_type": "code",
   "execution_count": 204,
   "id": "39d42f10-6a5d-47cd-b86b-6c37662835a0",
   "metadata": {},
   "outputs": [],
   "source": [
    "z2 = z2.permute(1,2,3,0,4).reshape(61,41,256)"
   ]
  },
  {
   "cell_type": "code",
   "execution_count": 206,
   "id": "e376ab3f-e5d4-4fe7-8d6c-321ccdd15543",
   "metadata": {},
   "outputs": [
    {
     "data": {
      "text/plain": [
       "torch.Size([61, 41, 256])"
      ]
     },
     "execution_count": 206,
     "metadata": {},
     "output_type": "execute_result"
    }
   ],
   "source": [
    "z2.shape"
   ]
  },
  {
   "cell_type": "code",
   "execution_count": 210,
   "id": "f323261f-30d8-4bba-9d4b-4fa4401e834d",
   "metadata": {},
   "outputs": [
    {
     "data": {
      "text/plain": [
       "\"<class 'torch.nn.modules.activation.GELU'>\""
      ]
     },
     "execution_count": 210,
     "metadata": {},
     "output_type": "execute_result"
    }
   ],
   "source": [
    "str(nn.GELU)"
   ]
  },
  {
   "cell_type": "code",
   "execution_count": 44,
   "id": "1389f868-3f83-40d0-a5f1-3b7e58543522",
   "metadata": {},
   "outputs": [
    {
     "data": {
      "text/plain": [
       "<matplotlib.image.AxesImage at 0x14a5dcf10>"
      ]
     },
     "execution_count": 44,
     "metadata": {},
     "output_type": "execute_result"
    },
    {
     "data": {
      "image/png": "[encoded data removed]",
      "text/plain": [
       "<Figure size 640x480 with 1 Axes>"
      ]
     },
     "metadata": {},
     "output_type": "display_data"
    }
   ],
   "source": [
    "plt.imshow(Y_deq[:,:,0,0], cmap=\"gray\")"
   ]
  },
  {
   "cell_type": "code",
   "execution_count": 142,
   "id": "b576b980-931e-4755-9aab-5cfa4bc8812d",
   "metadata": {},
   "outputs": [
    {
     "data": {
      "text/plain": [
       "(41, 61, 8, 8)"
      ]
     },
     "execution_count": 142,
     "metadata": {},
     "output_type": "execute_result"
    }
   ],
   "source": [
    "dct.Y.shape"
   ]
  },
  {
   "cell_type": "code",
   "execution_count": 212,
   "id": "83a4b70c-b6d4-489b-8407-4a906a5397f9",
   "metadata": {},
   "outputs": [],
   "source": [
    "bilin = nn.Bilinear(in1_features=64, in2_features=256, out_features=256)"
   ]
  },
  {
   "cell_type": "code",
   "execution_count": 214,
   "id": "1190c79e-d381-4862-ab0c-58a277dcd29c",
   "metadata": {},
   "outputs": [
    {
     "data": {
      "text/plain": [
       "(41, 61, 8, 8)"
      ]
     },
     "execution_count": 214,
     "metadata": {},
     "output_type": "execute_result"
    }
   ],
   "source": [
    "Y.shape"
   ]
  },
  {
   "cell_type": "code",
   "execution_count": 221,
   "id": "62550f58-0973-45a9-8fb9-65909907b8e5",
   "metadata": {},
   "outputs": [
    {
     "data": {
      "text/plain": [
       "torch.Size([576, 2501])"
      ]
     },
     "execution_count": 221,
     "metadata": {},
     "output_type": "execute_result"
    }
   ],
   "source": [
    "u = nn.Unfold(kernel_size=3, padding=(1,1), stride=1)\n",
    "u(Y10).shape"
   ]
  },
  {
   "cell_type": "code",
   "execution_count": 222,
   "id": "35313f77-0a12-4c7d-b3f2-3cc119fb5ddb",
   "metadata": {},
   "outputs": [
    {
     "data": {
      "text/plain": [
       "torch.Size([64, 41, 61])"
      ]
     },
     "execution_count": 222,
     "metadata": {},
     "output_type": "execute_result"
    }
   ],
   "source": [
    "Y10.shape"
   ]
  },
  {
   "cell_type": "code",
   "execution_count": 220,
   "id": "1d060cb8-0b74-440e-b3d3-e9d8b578d272",
   "metadata": {},
   "outputs": [
    {
     "data": {
      "text/plain": [
       "2501"
      ]
     },
     "execution_count": 220,
     "metadata": {},
     "output_type": "execute_result"
    }
   ],
   "source": [
    "41 * 61"
   ]
  },
  {
   "cell_type": "code",
   "execution_count": null,
   "id": "626c18c5-6260-44de-8c61-48f5522367f8",
   "metadata": {},
   "outputs": [],
   "source": []
  }
 ],
 "metadata": {
  "kernelspec": {
   "display_name": "Python 3 (ipykernel)",
   "language": "python",
   "name": "python3"
  },
  "language_info": {
   "codemirror_mode": {
    "name": "ipython",
    "version": 3
   },
   "file_extension": ".py",
   "mimetype": "text/x-python",
   "name": "python",
   "nbconvert_exporter": "python",
   "pygments_lexer": "ipython3",
   "version": "3.10.14"
  }
 },
 "nbformat": 4,
 "nbformat_minor": 5
}
