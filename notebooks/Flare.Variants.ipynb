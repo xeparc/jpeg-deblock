{
 "cells": [
  {
   "cell_type": "markdown",
   "id": "71d0b590-4f3a-437f-be22-b6b7f35b794a",
   "metadata": {},
   "source": [
    "# Flare Model Variations\n",
    "***\n",
    "*(by number of parameters)*"
   ]
  },
  {
   "cell_type": "code",
   "execution_count": 1,
   "id": "d7bc6837-6f27-43ef-98ae-1573f37b2299",
   "metadata": {},
   "outputs": [],
   "source": [
    "import torch\n",
    "import torch.nn\n",
    "\n",
    "import context\n",
    "from models.flare import Flare, FlareLuma, FlareChroma\n",
    "from models.transforms import InverseDCT"
   ]
  },
  {
   "cell_type": "code",
   "execution_count": 2,
   "id": "11fb73d3-74d0-47ce-86e6-026599f3d99c",
   "metadata": {},
   "outputs": [],
   "source": [
    "idct = InverseDCT()"
   ]
  },
  {
   "cell_type": "code",
   "execution_count": 3,
   "id": "dc4a12af-90e2-4d87-a9be-ae86c9edc839",
   "metadata": {},
   "outputs": [],
   "source": [
    "def num_params(net: torch.nn.Module):\n",
    "    total = 0\n",
    "    for param in net.parameters():\n",
    "        total += param.data.numel()\n",
    "    return total"
   ]
  },
  {
   "cell_type": "markdown",
   "id": "71bd4d4d-cc24-4311-8085-bb255b4e3a8e",
   "metadata": {},
   "source": [
    "### Fast: 250k Luma params, 250k Chroma params, Depthwise separable convolutions"
   ]
  },
  {
   "cell_type": "code",
   "execution_count": 4,
   "id": "d7bd1ef7-c667-4f45-ab5a-94fbdb1c392e",
   "metadata": {},
   "outputs": [
    {
     "data": {
      "text/plain": [
       "(230448, 240272)"
      ]
     },
     "execution_count": 4,
     "metadata": {},
     "output_type": "execute_result"
    }
   ],
   "source": [
    "luma = FlareLuma(idct, base_channels=16, blocks_per_stage=1, depthwise_separable=True)\n",
    "chroma = FlareChroma(idct, base_channels=16, blocks_per_stage=1, depthwise_separable=True)\n",
    "\n",
    "num_params(luma), num_params(chroma)"
   ]
  },
  {
   "cell_type": "code",
   "execution_count": 5,
   "id": "52261b38-39a3-4e14-9123-25bfe3b16814",
   "metadata": {},
   "outputs": [],
   "source": [
    "del luma\n",
    "del chroma"
   ]
  },
  {
   "cell_type": "markdown",
   "id": "5d7fe7fd-7478-4c8f-826d-58ce56e06c73",
   "metadata": {},
   "source": [
    "### Tiny: 1M Luma params, 1M Choma params"
   ]
  },
  {
   "cell_type": "code",
   "execution_count": 6,
   "id": "e0d665bf-0629-411b-a2e9-6b22da4ce40d",
   "metadata": {},
   "outputs": [
    {
     "data": {
      "text/plain": [
       "(1013848, 1023672)"
      ]
     },
     "execution_count": 6,
     "metadata": {},
     "output_type": "execute_result"
    }
   ],
   "source": [
    "luma = FlareLuma(idct, base_channels=16, blocks_per_stage=1, depthwise_separable=False)\n",
    "chroma = FlareChroma(idct, base_channels=16, blocks_per_stage=1, depthwise_separable=False)\n",
    "\n",
    "num_params(luma), num_params(chroma)"
   ]
  },
  {
   "cell_type": "code",
   "execution_count": 7,
   "id": "5a6ec39b-8391-429f-94f3-42380f7aa90c",
   "metadata": {},
   "outputs": [],
   "source": [
    "del luma\n",
    "del chroma"
   ]
  },
  {
   "cell_type": "markdown",
   "id": "bbf4e3b0-9c70-4759-a776-4f2f8ce410d5",
   "metadata": {},
   "source": [
    "### Small: 1.5M Luma params, 1M Chroma params"
   ]
  },
  {
   "cell_type": "code",
   "execution_count": 8,
   "id": "46aca097-d152-4e22-92ce-73aeee17d677",
   "metadata": {},
   "outputs": [
    {
     "data": {
      "text/plain": [
       "(1407488, 849312)"
      ]
     },
     "execution_count": 8,
     "metadata": {},
     "output_type": "execute_result"
    }
   ],
   "source": [
    "luma = FlareLuma(idct, base_channels=32, blocks_per_stage=2, channel_multiplier=2, depthwise_separable=True)\n",
    "chroma = FlareChroma(idct, base_channels=32, blocks_per_stage=1, depthwise_separable=True)\n",
    "\n",
    "num_params(luma), num_params(chroma)"
   ]
  },
  {
   "cell_type": "code",
   "execution_count": 9,
   "id": "e9a3824e-1b49-40c5-a96e-8318a19d0f63",
   "metadata": {},
   "outputs": [],
   "source": [
    "del luma\n",
    "del chroma"
   ]
  },
  {
   "cell_type": "markdown",
   "id": "b64f33ea-526a-4839-9bf8-d55cea6d2827",
   "metadata": {},
   "source": [
    "### Medium: 5M Luma params, 3M Chroma params"
   ]
  },
  {
   "cell_type": "code",
   "execution_count": 10,
   "id": "07501327-87af-4f6d-859d-f5547e495287",
   "metadata": {},
   "outputs": [
    {
     "data": {
      "text/plain": [
       "(5422016, 3174080)"
      ]
     },
     "execution_count": 10,
     "metadata": {},
     "output_type": "execute_result"
    }
   ],
   "source": [
    "luma = FlareLuma(idct, base_channels=64, blocks_per_stage=2, depthwise_separable=True)\n",
    "chroma = FlareChroma(idct, base_channels=64, blocks_per_stage=1, depthwise_separable=True)\n",
    "\n",
    "num_params(luma), num_params(chroma)"
   ]
  },
  {
   "cell_type": "code",
   "execution_count": 11,
   "id": "36d617ee-b6cc-4d43-ab1a-a267c355e65d",
   "metadata": {},
   "outputs": [],
   "source": [
    "del luma\n",
    "del chroma"
   ]
  },
  {
   "cell_type": "markdown",
   "id": "add1ab13-3819-4b4d-abd8-92c47842a130",
   "metadata": {},
   "source": [
    "### Large: 8M Luma params, 5M Chroma params"
   ]
  },
  {
   "cell_type": "code",
   "execution_count": 12,
   "id": "52e4ec23-8392-4afd-8edc-b8db559e29e6",
   "metadata": {},
   "outputs": [
    {
     "data": {
      "text/plain": [
       "(7709056, 5461120)"
      ]
     },
     "execution_count": 12,
     "metadata": {},
     "output_type": "execute_result"
    }
   ],
   "source": [
    "luma = FlareLuma(idct, base_channels=64, blocks_per_stage=3, channel_multiplier=2, depthwise_separable=True)\n",
    "chroma = FlareChroma(idct, base_channels=64, blocks_per_stage=2, depthwise_separable=True)\n",
    "\n",
    "num_params(luma), num_params(chroma)"
   ]
  },
  {
   "cell_type": "code",
   "execution_count": 13,
   "id": "83f94f69-8673-4ba2-a3e0-1192e736813e",
   "metadata": {},
   "outputs": [],
   "source": [
    "del luma\n",
    "del chroma"
   ]
  },
  {
   "cell_type": "code",
   "execution_count": null,
   "id": "3f277fd5-e7fa-4008-b949-8eebb75e9cb4",
   "metadata": {},
   "outputs": [],
   "source": []
  }
 ],
 "metadata": {
  "kernelspec": {
   "display_name": "Python 3 (ipykernel)",
   "language": "python",
   "name": "python3"
  },
  "language_info": {
   "codemirror_mode": {
    "name": "ipython",
    "version": 3
   },
   "file_extension": ".py",
   "mimetype": "text/x-python",
   "name": "python",
   "nbconvert_exporter": "python",
   "pygments_lexer": "ipython3",
   "version": "3.10.14"
  }
 },
 "nbformat": 4,
 "nbformat_minor": 5
}
