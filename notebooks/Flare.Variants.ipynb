{
 "cells": [
  {
   "cell_type": "markdown",
   "id": "71d0b590-4f3a-437f-be22-b6b7f35b794a",
   "metadata": {},
   "source": [
    "# Flare Model Variations\n",
    "***\n",
    "*(by number of parameters)*"
   ]
  },
  {
   "cell_type": "code",
   "execution_count": 1,
   "id": "d7bc6837-6f27-43ef-98ae-1573f37b2299",
   "metadata": {},
   "outputs": [],
   "source": [
    "import torch\n",
    "import torch.nn\n",
    "\n",
    "import context\n",
    "from models.flare import Flare, FlareLuma, FlareChroma\n",
    "from models.transforms import InverseDCT\n",
    "from models.arcnn import ARCNN"
   ]
  },
  {
   "cell_type": "code",
   "execution_count": 2,
   "id": "11fb73d3-74d0-47ce-86e6-026599f3d99c",
   "metadata": {},
   "outputs": [],
   "source": [
    "idct = InverseDCT()\n",
    "\n",
    "y = torch.randn(1, 1, 128, 128)\n",
    "dct_y = torch.randn(1, 64, 16, 16)\n",
    "qt_y = torch.randn(1, 64)"
   ]
  },
  {
   "cell_type": "code",
   "execution_count": 6,
   "id": "dc4a12af-90e2-4d87-a9be-ae86c9edc839",
   "metadata": {},
   "outputs": [],
   "source": [
    "def num_params(net: torch.nn.Module):\n",
    "    total = 0\n",
    "    for param in net.parameters():\n",
    "        total += param.data.numel()\n",
    "    return total"
   ]
  },
  {
   "cell_type": "markdown",
   "id": "b08db7a3-73a8-4981-bb2b-e67c6cc69f50",
   "metadata": {},
   "source": [
    "*Depthwise Separable Convolution shows weak results*"
   ]
  },
  {
   "cell_type": "markdown",
   "id": "b25e08df-63d4-4d39-87b1-d61ecb61cad3",
   "metadata": {},
   "source": [
    "### Tiny: 1M Luma params, 1M Chroma params"
   ]
  },
  {
   "cell_type": "code",
   "execution_count": 7,
   "id": "4ed1107d-b8df-481c-b28b-f6a81ae08b89",
   "metadata": {},
   "outputs": [
    {
     "data": {
      "text/plain": [
       "(1013624, 1023448)"
      ]
     },
     "execution_count": 7,
     "metadata": {},
     "output_type": "execute_result"
    }
   ],
   "source": [
    "luma = FlareLuma(idct, base_channels=16, blocks_per_stage=1, channel_multiplier=2, depthwise_separable=False)\n",
    "chroma = FlareChroma(idct, base_channels=16, blocks_per_stage=1, channel_multiplier=2, depthwise_separable=False)\n",
    "\n",
    "num_params(luma), num_params(chroma)"
   ]
  },
  {
   "cell_type": "code",
   "execution_count": 8,
   "id": "e939785c-0830-4d08-92c8-c6057027976a",
   "metadata": {},
   "outputs": [
    {
     "name": "stdout",
     "output_type": "stream",
     "text": [
      "16.3 ms ± 273 μs per loop (mean ± std. dev. of 7 runs, 100 loops each)\n"
     ]
    }
   ],
   "source": [
    "%timeit luma(y, dct_y, qt_y)"
   ]
  },
  {
   "cell_type": "code",
   "execution_count": 9,
   "id": "a41713f1-90d6-489f-9da5-8db02bc03ce9",
   "metadata": {},
   "outputs": [],
   "source": [
    "del luma\n",
    "del chroma"
   ]
  },
  {
   "cell_type": "markdown",
   "id": "223e9967-76da-4b8b-8e7f-ea2718a98120",
   "metadata": {},
   "source": [
    "### Small: 4M Luma params, 1M Chroma params"
   ]
  },
  {
   "cell_type": "code",
   "execution_count": 10,
   "id": "fe756823-28f5-4a5e-9fff-021fa40510d6",
   "metadata": {},
   "outputs": [
    {
     "data": {
      "text/plain": [
       "(3973680, 2001036)"
      ]
     },
     "execution_count": 10,
     "metadata": {},
     "output_type": "execute_result"
    }
   ],
   "source": [
    "luma = FlareLuma(idct, base_channels=32, blocks_per_stage=1, channel_multiplier=2, depthwise_separable=False)\n",
    "chroma = FlareChroma(idct, base_channels=32, blocks_per_stage=1, channel_multiplier=1.75, depthwise_separable=False)\n",
    "\n",
    "num_params(luma), num_params(chroma)"
   ]
  },
  {
   "cell_type": "code",
   "execution_count": 11,
   "id": "eeaea817-b7d3-491b-bfc4-1ea08f225ba6",
   "metadata": {},
   "outputs": [
    {
     "name": "stdout",
     "output_type": "stream",
     "text": [
      "30.2 ms ± 177 μs per loop (mean ± std. dev. of 7 runs, 10 loops each)\n"
     ]
    }
   ],
   "source": [
    "%timeit luma(y, dct_y, qt_y)"
   ]
  },
  {
   "cell_type": "code",
   "execution_count": 12,
   "id": "b5b5cfb9-aa4d-497e-a381-d2b7e71df92a",
   "metadata": {},
   "outputs": [],
   "source": [
    "del luma\n",
    "del chroma"
   ]
  },
  {
   "cell_type": "markdown",
   "id": "26f4345e-d184-425f-88f2-ea3fa08f63de",
   "metadata": {},
   "source": [
    "### Medium: 7M Luma params, 4M Chroma params"
   ]
  },
  {
   "cell_type": "code",
   "execution_count": 13,
   "id": "d965a164-04c3-4f45-a56e-c5940e427b9a",
   "metadata": {},
   "outputs": [
    {
     "data": {
      "text/plain": [
       "(8880232, 3993264)"
      ]
     },
     "execution_count": 13,
     "metadata": {},
     "output_type": "execute_result"
    }
   ],
   "source": [
    "luma = FlareLuma(idct, base_channels=48, blocks_per_stage=1, channel_multiplier=2, depthwise_separable=False)\n",
    "chroma = FlareChroma(idct, base_channels=32, blocks_per_stage=1, channel_multiplier=2, depthwise_separable=False)\n",
    "\n",
    "num_params(luma), num_params(chroma)"
   ]
  },
  {
   "cell_type": "code",
   "execution_count": 14,
   "id": "41360bc6-6e07-4bd9-b6d1-0fa095a2654e",
   "metadata": {},
   "outputs": [
    {
     "name": "stdout",
     "output_type": "stream",
     "text": [
      "47.6 ms ± 868 μs per loop (mean ± std. dev. of 7 runs, 10 loops each)\n"
     ]
    }
   ],
   "source": [
    "%timeit luma(y, dct_y, qt_y)"
   ]
  },
  {
   "cell_type": "code",
   "execution_count": 15,
   "id": "619c7508-9efd-4d16-a1f3-ce949bb8f544",
   "metadata": {},
   "outputs": [],
   "source": [
    "del luma\n",
    "del chroma"
   ]
  },
  {
   "cell_type": "markdown",
   "id": "6bf6c77b-006b-46d0-9548-a5ef63966636",
   "metadata": {},
   "source": [
    "### Large: 15M Luma params, 8M Chroma params"
   ]
  },
  {
   "cell_type": "code",
   "execution_count": 16,
   "id": "8ebbf01f-0a0f-47a3-8580-91061f98f419",
   "metadata": {},
   "outputs": [
    {
     "data": {
      "text/plain": [
       "(15733280, 7901456)"
      ]
     },
     "execution_count": 16,
     "metadata": {},
     "output_type": "execute_result"
    }
   ],
   "source": [
    "luma = FlareLuma(idct, base_channels=64, blocks_per_stage=1, channel_multiplier=2.0, depthwise_separable=False)\n",
    "chroma = FlareChroma(idct, base_channels=64, blocks_per_stage=1, channel_multiplier=1.75, depthwise_separable=False)\n",
    "\n",
    "num_params(luma), num_params(chroma)"
   ]
  },
  {
   "cell_type": "code",
   "execution_count": 17,
   "id": "325e1ee6-93da-40a4-9bd4-6553a78a8930",
   "metadata": {},
   "outputs": [
    {
     "name": "stdout",
     "output_type": "stream",
     "text": [
      "68.9 ms ± 753 μs per loop (mean ± std. dev. of 7 runs, 10 loops each)\n"
     ]
    }
   ],
   "source": [
    "%timeit luma(y, dct_y, qt_y)"
   ]
  },
  {
   "cell_type": "code",
   "execution_count": 18,
   "id": "f9beb002-a32b-4bad-827f-cb8555558d96",
   "metadata": {},
   "outputs": [],
   "source": [
    "del luma\n",
    "del chroma"
   ]
  },
  {
   "cell_type": "code",
   "execution_count": null,
   "id": "51598875-ee20-4e27-8376-8cc0c34465d7",
   "metadata": {},
   "outputs": [],
   "source": []
  }
 ],
 "metadata": {
  "kernelspec": {
   "display_name": "Python 3 (ipykernel)",
   "language": "python",
   "name": "python3"
  },
  "language_info": {
   "codemirror_mode": {
    "name": "ipython",
    "version": 3
   },
   "file_extension": ".py",
   "mimetype": "text/x-python",
   "name": "python",
   "nbconvert_exporter": "python",
   "pygments_lexer": "ipython3",
   "version": "3.10.14"
  }
 },
 "nbformat": 4,
 "nbformat_minor": 5
}
